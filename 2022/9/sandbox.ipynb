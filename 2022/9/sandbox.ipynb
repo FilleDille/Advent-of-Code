{
 "cells": [
  {
   "cell_type": "code",
   "execution_count": 73,
   "outputs": [],
   "source": [
    "with open('input.txt', 'r') as f:\n",
    "    inp = f.read().splitlines()\n",
    "    f.close()"
   ],
   "metadata": {
    "collapsed": false
   }
  },
  {
   "cell_type": "code",
   "execution_count": 74,
   "outputs": [],
   "source": [
    "class Point:\n",
    "\n",
    "    def __init__(self):\n",
    "        self.points = 1\n",
    "\n",
    "    def add(self):\n",
    "        self.points += 1\n"
   ],
   "metadata": {
    "collapsed": false
   }
  },
  {
   "cell_type": "code",
   "execution_count": 75,
   "outputs": [],
   "source": [
    "x = 0\n",
    "y = 0\n",
    "h_x = 0\n",
    "h_y = 0\n",
    "\n",
    "point_dict = {(x,y):Point()}\n",
    "\n",
    "for row in inp:\n",
    "    steps = int(row.split()[1])\n",
    "    direction = row.split()[0]\n",
    "\n",
    "    for i in range(steps):\n",
    "        move_made = False\n",
    "\n",
    "        if direction == 'R':\n",
    "            h_x += 1\n",
    "        if direction == 'L':\n",
    "            h_x -= 1\n",
    "        if direction == 'U':\n",
    "            h_y += 1\n",
    "        if direction == 'D':\n",
    "            h_y -= 1\n",
    "\n",
    "        delta = (h_x - x, h_y - y)\n",
    "\n",
    "        if delta.count(0) == 1: # not diagonal\n",
    "            if sum(delta) in (2,-2):\n",
    "                if delta.index(0) == 1: # change in x\n",
    "                    if delta[0] == -2:\n",
    "                        x -= 1\n",
    "                    else:\n",
    "                        x += 1\n",
    "                else:\n",
    "                    if delta[1] == -2:\n",
    "                        y -= 1\n",
    "                    else:\n",
    "                        y += 1\n",
    "\n",
    "                move_made = True\n",
    "        else: # diagonal, delta.count(0) == 0\n",
    "            if sum(delta) == 3: # NE\n",
    "                x += 1\n",
    "                y += 1\n",
    "            elif sum(delta) == -3: # SW\n",
    "                x -= 1\n",
    "                y -= 1\n",
    "            elif sum(delta) in (1,-1): # NW/SE\n",
    "                if delta.index(max(delta)) == 0: # SE\n",
    "                    x += 1\n",
    "                    y -= 1\n",
    "                else: # NW\n",
    "                    x -= 1\n",
    "                    y += 1\n",
    "\n",
    "            move_made = True\n",
    "\n",
    "        if move_made:\n",
    "            if (x, y) in point_dict:\n",
    "                point_dict[(x, y)].add()\n",
    "            else:\n",
    "                point_dict[(x, y)] = Point()"
   ],
   "metadata": {
    "collapsed": false
   }
  },
  {
   "cell_type": "code",
   "execution_count": 76,
   "outputs": [
    {
     "data": {
      "text/plain": "6236"
     },
     "execution_count": 76,
     "metadata": {},
     "output_type": "execute_result"
    }
   ],
   "source": [
    "len(point_dict)"
   ],
   "metadata": {
    "collapsed": false
   }
  },
  {
   "cell_type": "code",
   "execution_count": 71,
   "outputs": [
    {
     "data": {
      "text/plain": "{(0, 0): <__main__.Point at 0x7faeb5619c70>,\n (1, 0): <__main__.Point at 0x7faeb71a9cd0>,\n (2, 0): <__main__.Point at 0x7faeb98a3490>,\n (3, 0): <__main__.Point at 0x7faeb98a3430>,\n (4, 1): <__main__.Point at 0x7faeb98a3640>,\n (4, 2): <__main__.Point at 0x7faeb5619790>,\n (4, 3): <__main__.Point at 0x7faeb56196a0>,\n (3, 4): <__main__.Point at 0x7faeb5619ee0>,\n (2, 4): <__main__.Point at 0x7faeb5619340>,\n (3, 3): <__main__.Point at 0x7faeb5619220>,\n (3, 2): <__main__.Point at 0x7faeb56190d0>,\n (2, 2): <__main__.Point at 0x7faeb5619190>,\n (1, 2): <__main__.Point at 0x7faeb5619760>}"
     },
     "execution_count": 71,
     "metadata": {},
     "output_type": "execute_result"
    }
   ],
   "source": [
    "point_dict"
   ],
   "metadata": {
    "collapsed": false
   }
  },
  {
   "cell_type": "code",
   "execution_count": 10,
   "outputs": [],
   "source": [
    "from functools import reduce"
   ],
   "metadata": {
    "collapsed": false
   }
  },
  {
   "cell_type": "code",
   "execution_count": 11,
   "outputs": [],
   "source": [
    "point_sum = reduce(lambda x, y: x + int(y.points), point_dict.values(), 0)"
   ],
   "metadata": {
    "collapsed": false
   }
  },
  {
   "cell_type": "code",
   "execution_count": 27,
   "outputs": [
    {
     "data": {
      "text/plain": "12"
     },
     "execution_count": 27,
     "metadata": {},
     "output_type": "execute_result"
    }
   ],
   "source": [
    "point_sum"
   ],
   "metadata": {
    "collapsed": false
   }
  },
  {
   "cell_type": "code",
   "execution_count": 53,
   "outputs": [],
   "source": [
    "test = (1,2)"
   ],
   "metadata": {
    "collapsed": false
   }
  },
  {
   "cell_type": "code",
   "execution_count": 55,
   "outputs": [
    {
     "data": {
      "text/plain": "2"
     },
     "execution_count": 55,
     "metadata": {},
     "output_type": "execute_result"
    }
   ],
   "source": [
    "test[1]"
   ],
   "metadata": {
    "collapsed": false
   }
  },
  {
   "cell_type": "code",
   "execution_count": 33,
   "outputs": [
    {
     "data": {
      "text/plain": "-1"
     },
     "execution_count": 33,
     "metadata": {},
     "output_type": "execute_result"
    }
   ],
   "source": [
    "test"
   ],
   "metadata": {
    "collapsed": false
   }
  },
  {
   "cell_type": "code",
   "execution_count": null,
   "outputs": [],
   "source": [],
   "metadata": {
    "collapsed": false
   }
  }
 ],
 "metadata": {
  "kernelspec": {
   "display_name": "Python 3.9.12 ('base')",
   "language": "python",
   "name": "python3"
  },
  "language_info": {
   "codemirror_mode": {
    "name": "ipython",
    "version": 3
   },
   "file_extension": ".py",
   "mimetype": "text/x-python",
   "name": "python",
   "nbconvert_exporter": "python",
   "pygments_lexer": "ipython3",
   "version": "3.9.12 (main, Apr  5 2022, 01:53:17) \n[Clang 12.0.0 ]"
  },
  "orig_nbformat": 4,
  "vscode": {
   "interpreter": {
    "hash": "8ffd98268e91dc14f31c570250aa7723a2b3a426be4e8e4a7d3ed0dd5d13741a"
   }
  }
 },
 "nbformat": 4,
 "nbformat_minor": 2
}
